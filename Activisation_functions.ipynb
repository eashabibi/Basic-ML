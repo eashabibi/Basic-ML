{
  "nbformat": 4,
  "nbformat_minor": 0,
  "metadata": {
    "colab": {
      "provenance": [],
      "mount_file_id": "16b6h8SrULvWnf1XiTb9xFrcA7DKRILcP",
      "authorship_tag": "ABX9TyOD2F9+L/cfnyZ8/LDvpode",
      "include_colab_link": true
    },
    "kernelspec": {
      "name": "python3",
      "display_name": "Python 3"
    },
    "language_info": {
      "name": "python"
    }
  },
  "cells": [
    {
      "cell_type": "markdown",
      "metadata": {
        "id": "view-in-github",
        "colab_type": "text"
      },
      "source": [
        "<a href=\"https://colab.research.google.com/github/eashabibi/Basic-ML/blob/main/Activisation_functions.ipynb\" target=\"_parent\"><img src=\"https://colab.research.google.com/assets/colab-badge.svg\" alt=\"Open In Colab\"/></a>"
      ]
    },
    {
      "cell_type": "markdown",
      "source": [
        "**Implementation of activisation functions**"
      ],
      "metadata": {
        "id": "URVx21GIsEMw"
      }
    },
    {
      "cell_type": "markdown",
      "source": [
        " 1.**sigmoid**\n",
        "\n",
        "Mathematical formula:\n",
        " sigmoid(x) = 1 / (1 + exp(-x))\n",
        " * non-linear activation function used in machine learning and neural networks. \n",
        " * x --input value or an array of input values.\n",
        " * maps the input values to a range between 0 and 1. \n",
        " * \"S\"-shaped curve."
      ],
      "metadata": {
        "id": "vNJON8KEsOrm"
      }
    },
    {
      "cell_type": "code",
      "source": [
        "import numpy as np\n",
        "import matplotlib.pyplot as plt\n",
        "\n",
        "def sigmoid(x):\n",
        "    return 1 / (1 + np.exp(-x))\n",
        "\n",
        "# x will be an array containing 100 values ranging from -10 to 10.\n",
        "# np.linspace() ----used to create an array of evenly spaced values over a specified interval.\n",
        "x = np.linspace(-10, 10, 100)\n",
        "\n",
        "# Compute sigmoid values for the x values\n",
        "y = sigmoid(x)\n",
        "\n",
        "# Plot the sigmoid function\n",
        "plt.plot(x, y)\n",
        "plt.title(\"Sigmoid Activation Function\")\n",
        "plt.xlabel(\"x\")\n",
        "plt.ylabel(\"sigmoid(x)\")\n",
        "plt.grid(True)\n",
        "plt.show()\n",
        "#  showing the \"S\"-shaped curve with  input values from -10 to 10 and output values ranging from 0 to 1.\n"
      ],
      "metadata": {
        "colab": {
          "base_uri": "https://localhost:8080/",
          "height": 472
        },
        "id": "MNGW0mtwuG55",
        "outputId": "4d2e757b-b364-4e3e-fb7d-717c9520c283"
      },
      "execution_count": 4,
      "outputs": [
        {
          "output_type": "display_data",
          "data": {
            "text/plain": [
              "<Figure size 640x480 with 1 Axes>"
            ],
            "image/png": "[encoded data removed]"
          },
          "metadata": {}
        }
      ]
    },
    {
      "cell_type": "markdown",
      "source": [
        " **Note:**  \n",
        "  * input --large positive number output is 1.\n",
        "\n",
        "  * input --large negative number,output will 0. \n",
        "\n",
        "  * input --0 outputs 0.5.\n",
        "\n",
        "**np.linspace(start, stop, num)**\n",
        "\n",
        "=> start: starting value of sequence.\n",
        "\n",
        "=> stop: ending value of sequence.\n",
        "\n",
        "=> num: number of evenly spaced values to generate between the start and stop."
      ],
      "metadata": {
        "id": "tMQvukaEw2js"
      }
    },
    {
      "cell_type": "code",
      "source": [
        "x = 0.5\n",
        "result = sigmoid(x)\n",
        "print(result)\n"
      ],
      "metadata": {
        "colab": {
          "base_uri": "https://localhost:8080/"
        },
        "id": "Sv63tEufxuIG",
        "outputId": "d937b333-723c-4cd2-85a5-12aa492feb2c"
      },
      "execution_count": 5,
      "outputs": [
        {
          "output_type": "stream",
          "name": "stdout",
          "text": [
            "0.6224593312018546\n"
          ]
        }
      ]
    },
    {
      "cell_type": "code",
      "source": [
        "x = -200\n",
        "result = sigmoid(x)\n",
        "print(result)\n"
      ],
      "metadata": {
        "colab": {
          "base_uri": "https://localhost:8080/"
        },
        "id": "lzx4y4hpxxNF",
        "outputId": "ba74e7b0-6a72-4b0e-ddf3-d5846d7239da"
      },
      "execution_count": 6,
      "outputs": [
        {
          "output_type": "stream",
          "name": "stdout",
          "text": [
            "1.3838965267367376e-87\n"
          ]
        }
      ]
    },
    {
      "cell_type": "code",
      "source": [
        "x = 0\n",
        "result = sigmoid(x)\n",
        "print(result)\n"
      ],
      "metadata": {
        "colab": {
          "base_uri": "https://localhost:8080/"
        },
        "id": "PWoF9qosyENP",
        "outputId": "c3bd5fa4-f355-4f4e-9e25-456eef43c63c"
      },
      "execution_count": 7,
      "outputs": [
        {
          "output_type": "stream",
          "name": "stdout",
          "text": [
            "0.5\n"
          ]
        }
      ]
    },
    {
      "cell_type": "markdown",
      "source": [
        "**2**  **tanh activisation function**\n",
        "\n",
        "**Mathematical formula:**    \n",
        "tanh(x) = (exp(x) - exp(-x)) / (exp(x) + exp(-x))\n",
        "\n",
        "\n",
        "* An extension of sigmoid function \n",
        "*  maps input values to range between -1 and 1.\n",
        "* \"S\"-shaped curve similar to sigmoid function---symmetric around the origin, "
      ],
      "metadata": {
        "id": "pcSRdNYNyWXJ"
      }
    },
    {
      "cell_type": "code",
      "source": [
        "import numpy as np\n",
        "import matplotlib.pyplot as plt\n",
        "\n",
        "def tanh(x):\n",
        "    return np.tanh(x)\n",
        "\n",
        "# Generate x values from -10 to 10\n",
        "x = np.linspace(-10, 10, 100)\n",
        "\n",
        "# Compute tanh values for the x values\n",
        "y = tanh(x)\n",
        "\n",
        "# Plot the tanh function\n",
        "plt.plot(x, y)\n",
        "plt.title(\"Tanh Activation Function\")\n",
        "plt.xlabel(\"x\")\n",
        "plt.ylabel(\"tanh(x)\")\n",
        "plt.grid(True)\n",
        "plt.show()\n"
      ],
      "metadata": {
        "colab": {
          "base_uri": "https://localhost:8080/",
          "height": 472
        },
        "id": "w2Va3Czpy31U",
        "outputId": "9b74cdeb-1d3f-4d02-e5db-081ccf2e4946"
      },
      "execution_count": 8,
      "outputs": [
        {
          "output_type": "display_data",
          "data": {
            "text/plain": [
              "<Figure size 640x480 with 1 Axes>"
            ],
            "image/png": "[encoded data removed]"
          },
          "metadata": {}
        }
      ]
    },
    {
      "cell_type": "markdown",
      "source": [
        "* input large positive number---output is 1.\n",
        "* input large negative number---output is -1\n",
        "* input 0--output  is 0."
      ],
      "metadata": {
        "id": "39RnPbfS0BNB"
      }
    },
    {
      "cell_type": "code",
      "source": [
        "# input large positive number---output is 1.\n",
        "\n",
        "\n",
        "x = 0\n",
        "result = tanh(x)\n",
        "print(result)"
      ],
      "metadata": {
        "colab": {
          "base_uri": "https://localhost:8080/"
        },
        "id": "kuAT-QEv0qiI",
        "outputId": "b7552b6d-3456-4de2-ca4b-405025fd96d6"
      },
      "execution_count": 9,
      "outputs": [
        {
          "output_type": "stream",
          "name": "stdout",
          "text": [
            "0.46211715726000974\n"
          ]
        }
      ]
    },
    {
      "cell_type": "code",
      "source": [
        "# input large negative number---output is -1\n",
        "x = -200\n",
        "result = tanh(x)\n",
        "print(result)"
      ],
      "metadata": {
        "colab": {
          "base_uri": "https://localhost:8080/"
        },
        "id": "ooufdN4l0-TE",
        "outputId": "567d382d-747a-46fb-8dcd-903c27642077"
      },
      "execution_count": 12,
      "outputs": [
        {
          "output_type": "stream",
          "name": "stdout",
          "text": [
            "-1.0\n"
          ]
        }
      ]
    },
    {
      "cell_type": "code",
      "source": [
        "# input 0--output  is 0.\n",
        "x = 5000\n",
        "result = tanh(x)\n",
        "print(result)"
      ],
      "metadata": {
        "colab": {
          "base_uri": "https://localhost:8080/"
        },
        "id": "ZhH47_OB1BvC",
        "outputId": "26c1d0c2-e820-4d19-f7b6-f5c591d50958"
      },
      "execution_count": 13,
      "outputs": [
        {
          "output_type": "stream",
          "name": "stdout",
          "text": [
            "1.0\n"
          ]
        }
      ]
    },
    {
      "cell_type": "markdown",
      "source": [
        " ### **3.   ReLU**  **activisation** **function**\n",
        " **Mathematical formula**:\n",
        "\n",
        " ReLU(x) = max(0, x)\n",
        "* x ---   input value to ReLU function\n",
        "* max(0, x)--  returns maximum value between 0 and x.\n",
        "* helps for vanishing gradient problem, which occur during backpropagation in deep neural networks.\n",
        "*  To compute derivative of ReLU, differentiate it as:\n",
        "\n",
        "=>  **For x > 0**\n",
        "\n",
        "d/dx ReLU(x) = 1\n",
        "\n",
        "=>  **For x <= 0**\n",
        "\n",
        "d/dx ReLU(x) = 0\n",
        "\n",
        "* derivative of ReLU is either 0 or 1 depending on the input value. \n",
        "\n",
        "* The derivative at x = 0 is undefined because the function is not differentiable at that point.\n",
        "\n",
        "\n",
        "\n",
        "\n",
        "\n",
        "\n"
      ],
      "metadata": {
        "id": "PDh8KFV51-z9"
      }
    },
    {
      "cell_type": "code",
      "source": [
        "import numpy as np\n",
        "import matplotlib.pyplot as plt\n",
        "\n",
        "def relu(x):\n",
        "    return np.maximum(0, x)\n",
        "\n",
        "# Generate input values from -10 to 10\n",
        "x = np.linspace(-10, 10, 100)\n",
        "\n",
        "# Apply ReLU activation function to the input values\n",
        "y = relu(x)\n",
        "\n",
        "# Plot the ReLU function\n",
        "plt.plot(x, y)\n",
        "plt.xlabel('Input')\n",
        "plt.ylabel('Output')\n",
        "plt.title('ReLU Activation Function')\n",
        "plt.grid(True)\n",
        "plt.show()\n"
      ],
      "metadata": {
        "colab": {
          "base_uri": "https://localhost:8080/",
          "height": 472
        },
        "id": "xrdyfDir2k3R",
        "outputId": "e9464db1-88c4-4f8e-e1cf-baa5b264273b"
      },
      "execution_count": 14,
      "outputs": [
        {
          "output_type": "display_data",
          "data": {
            "text/plain": [
              "<Figure size 640x480 with 1 Axes>"
            ],
            "image/png": "[encoded data removed]"
          },
          "metadata": {}
        }
      ]
    },
    {
      "cell_type": "markdown",
      "source": [
        "* input is 0---output also 0. (ReLU function sets all negative input values to zero, including zero itself.)\n",
        "* input is largr positive--output will be equal to the input value itself.(ReLU passes through positive values unchanged.)\n",
        "* input is large negitive---output will be 0.(ReLU sets all negative input values to zero.\n",
        "0\n",
        "\n",
        "\n",
        "\n",
        "\n",
        "\n",
        "\n",
        "\n",
        "\n",
        "\n",
        "\n",
        "\n"
      ],
      "metadata": {
        "id": "aqDk_eBv5t-_"
      }
    },
    {
      "cell_type": "code",
      "source": [
        "# input is 0---output also 0.\n",
        "\n",
        "x = 0\n",
        "result = relu(x)\n",
        "print(result)"
      ],
      "metadata": {
        "colab": {
          "base_uri": "https://localhost:8080/"
        },
        "id": "NmdJ8dQT6jt8",
        "outputId": "40aa745c-862e-4702-992a-7553b82adfe2"
      },
      "execution_count": 16,
      "outputs": [
        {
          "output_type": "stream",
          "name": "stdout",
          "text": [
            "0\n"
          ]
        }
      ]
    },
    {
      "cell_type": "code",
      "source": [
        "# input is largr positive--output will be equal to the input value itself.\n",
        "\n",
        "x = -200\n",
        "result = relu(x)\n",
        "print(result)"
      ],
      "metadata": {
        "colab": {
          "base_uri": "https://localhost:8080/"
        },
        "id": "36lysXLo6wuE",
        "outputId": "1257bc8c-8d9a-4ffe-f242-1815db4e12f1"
      },
      "execution_count": 17,
      "outputs": [
        {
          "output_type": "stream",
          "name": "stdout",
          "text": [
            "0\n"
          ]
        }
      ]
    },
    {
      "cell_type": "code",
      "source": [
        "# input is largr positive--output will be equal to the input value itself.\n",
        "x = 500\n",
        "result = relu(x)\n",
        "print(result)"
      ],
      "metadata": {
        "colab": {
          "base_uri": "https://localhost:8080/"
        },
        "id": "nrmLJVNv61t0",
        "outputId": "d9cfab8a-5326-4460-c0e7-25672f3df950"
      },
      "execution_count": 18,
      "outputs": [
        {
          "output_type": "stream",
          "name": "stdout",
          "text": [
            "500\n"
          ]
        }
      ]
    }
  ]
}