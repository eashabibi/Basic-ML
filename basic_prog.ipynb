{
  "nbformat": 4,
  "nbformat_minor": 0,
  "metadata": {
    "colab": {
      "name": "basic_prog.ipynb",
      "provenance": [],
      "include_colab_link": true
    },
    "kernelspec": {
      "name": "python3",
      "display_name": "Python 3"
    },
    "language_info": {
      "name": "python"
    }
  },
  "cells": [
    {
      "cell_type": "markdown",
      "metadata": {
        "id": "view-in-github",
        "colab_type": "text"
      },
      "source": [
        "<a href=\"https://colab.research.google.com/github/UndavalliJagadeesh/Basic-ML/blob/main/basic_prog.ipynb\" target=\"_parent\"><img src=\"https://colab.research.google.com/assets/colab-badge.svg\" alt=\"Open In Colab\"/></a>"
      ]
    },
    {
      "cell_type": "markdown",
      "metadata": {
        "id": "F1Q0MjGft3CJ"
      },
      "source": [
        "### Python program to print a given string in upper case and lower case.\n",
        "---\n",
        ">Inbuilt functions like upper(), lower() shouldn't be used.\n",
        "\n",
        "*Algorithm*\n",
        "*   Start\n",
        "*   Read string\n",
        "*   Convert each character in the string to lower case and print the string\n",
        "*   Convert each character in the string to upper case and print the string\n",
        "*   Stop\n",
        "\n",
        "\n"
      ]
    },
    {
      "cell_type": "code",
      "metadata": {
        "id": "prSiabn_uHeK",
        "colab": {
          "base_uri": "https://localhost:8080/"
        },
        "outputId": "f1a00599-d94b-4ea2-c25d-c629a3b3eea9"
      },
      "source": [
        "str=input()\n",
        "def lwr():\n",
        "    nStr=''\n",
        "    for i in str:\n",
        "        if 65<=ord(i)<=90:\n",
        "            nStr+=chr(ord(i)+32)\n",
        "        elif 97<=ord(i)<=122:\n",
        "            nStr+=i\n",
        "    print('lower:',nStr)\n",
        "def upr():\n",
        "    nStr=''\n",
        "    for i in str:\n",
        "        if 65<=ord(i)<=90:\n",
        "            nStr+=i\n",
        "        elif 97<=ord(i)<=122:\n",
        "            nStr+=chr(ord(i)-32)\n",
        "    print('UPPER:',nStr)\n",
        "lwr()\n",
        "upr()"
      ],
      "execution_count": null,
      "outputs": [
        {
          "output_type": "stream",
          "text": [
            "machineLearning\n",
            "lower: machinelearning\n",
            "UPPER: MACHINELEARNING\n"
          ],
          "name": "stdout"
        }
      ]
    },
    {
      "cell_type": "markdown",
      "metadata": {
        "id": "3zGaFd879AG2"
      },
      "source": [
        "### Python program to print a given string in upper case and lower case.\n",
        "---\n",
        ">No inbuilt functions must be used.\n",
        "\n",
        ">The program should contain the concept of Recursion.\n",
        "\n",
        "*Algorithm*\n",
        "*   Start\n",
        "*   Read base and power\n",
        "*   Multiply base with itself for power times and assign its value to res\n",
        "*   print res\n",
        "*   Stop\n",
        "\n"
      ]
    },
    {
      "cell_type": "code",
      "metadata": {
        "colab": {
          "base_uri": "https://localhost:8080/"
        },
        "id": "ysUcoeVy8_ui",
        "outputId": "38d1cc99-7a7a-4435-fc1e-c5df39dad211"
      },
      "source": [
        "nUm = int(input('Enter the number : '))\n",
        "pOwer = int(input('Enter the required power : '))\n",
        "def pwr(n,p):\n",
        "\tif p==0:\n",
        "\t\treturn 1\n",
        "\telse:\n",
        "\t\tp=p-1\n",
        "\t\treturn n*pwr(n,p)\n",
        "print(pwr(nUm,pOwer))"
      ],
      "execution_count": null,
      "outputs": [
        {
          "output_type": "stream",
          "text": [
            "Enter the number : 5\n",
            "Enter the required power : 3\n",
            "125\n"
          ],
          "name": "stdout"
        }
      ]
    },
    {
      "cell_type": "markdown",
      "metadata": {
        "id": "87_e5lr_Cl58"
      },
      "source": [
        "###Python program to add 'ing' at the end of a given string\n",
        "---\n",
        ">Lenth should be atleast 3.\n",
        "\n",
        ">If the string length of the given string is less than 3, leave it unchanged.\n",
        "\n",
        ">If the given string already ends with 'ing' then add 'ly' instead. \n",
        "\n",
        "*Algorithm*\n",
        "*    Start\n",
        "*    Read a string\n",
        "*    Check whether the length of string is greater than 2\n",
        "*    If yes, check whether the last three characters are 'ing'\n",
        "*    If yes, add 'ly' else add 'ing'\n",
        "*    Print the resulting string\n",
        "*    Stop"
      ]
    },
    {
      "cell_type": "code",
      "metadata": {
        "colab": {
          "base_uri": "https://localhost:8080/"
        },
        "id": "MlMIvIpRCmR5",
        "outputId": "30a3fd4f-a20b-4517-f897-33b43cb79cf0"
      },
      "source": [
        "str=input(\"Input:\")\n",
        "if len(str)>=3:\n",
        "    if str[-3:]=='ing':\n",
        "        print(\"Output:\",str+'ly')\n",
        "    else:\n",
        "        print(\"Output:\",str+'ing')\n",
        "else:\n",
        "    print(\"Output:\",str)"
      ],
      "execution_count": null,
      "outputs": [
        {
          "output_type": "stream",
          "text": [
            "Input:Compiler\n",
            "Output:Compilering\n"
          ],
          "name": "stdout"
        }
      ]
    }
  ]
}